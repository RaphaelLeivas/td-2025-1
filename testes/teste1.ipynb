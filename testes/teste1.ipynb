{
 "cells": [
  {
   "cell_type": "code",
   "execution_count": 15,
   "id": "bc4548e4",
   "metadata": {},
   "outputs": [
    {
     "ename": "TypeError",
     "evalue": "MyProblem() takes no arguments",
     "output_type": "error",
     "traceback": [
      "\u001b[31m---------------------------------------------------------------------------\u001b[39m",
      "\u001b[31mTypeError\u001b[39m                                 Traceback (most recent call last)",
      "\u001b[36mCell\u001b[39m\u001b[36m \u001b[39m\u001b[32mIn[15]\u001b[39m\u001b[32m, line 8\u001b[39m\n\u001b[32m      5\u001b[39m \u001b[38;5;28;01mimport\u001b[39;00m\u001b[38;5;250m \u001b[39m\u001b[34;01mcopy\u001b[39;00m\n\u001b[32m      7\u001b[39m myRVNS = MyRVNS()\n\u001b[32m----> \u001b[39m\u001b[32m8\u001b[39m myProblem = \u001b[43mMyProblem_class\u001b[49m\u001b[43m.\u001b[49m\u001b[43mMyProblem\u001b[49m\u001b[43m(\u001b[49m\u001b[32;43m10\u001b[39;49m\u001b[43m)\u001b[49m\n",
      "\u001b[31mTypeError\u001b[39m: MyProblem() takes no arguments"
     ]
    }
   ],
   "source": [
    "import numpy as np\n",
    "import matplotlib.pyplot as plt\n",
    "from MyRVNS_class import MyRVNS\n",
    "import MyProblem_class\n",
    "import copy\n",
    "\n",
    "myRVNS = MyRVNS()\n",
    "myProblem = MyProblem_class.MyProblem(10)"
   ]
  },
  {
   "cell_type": "code",
   "execution_count": 13,
   "id": "030b88f6",
   "metadata": {},
   "outputs": [
    {
     "name": "stdout",
     "output_type": "stream",
     "text": [
      "[[83 49 75 17 99 26 59 27 67 47]\n",
      " [55 78 75 74 76 53  3 33 20 22]\n",
      " [20 12 87 76  2 19 25 29 12 41]\n",
      " [77 59 23 35 53  6 52 89 86 50]\n",
      " [25 46 72  8  7 80 87 39 84 11]\n",
      " [25 23 62 63 37 95 20  6  1 86]\n",
      " [48 90 46 42  3 82 29 60 73 38]\n",
      " [14 48  6 60 26 66 17 27 72 60]\n",
      " [27 54 37 23 98 68 58 51 36 21]\n",
      " [49 37 61 63  5 92  7 62 84 44]]\n"
     ]
    }
   ],
   "source": [
    "n = 10\n",
    "probdata = myProblem.probdef(10)\n",
    "\n",
    "print(probdata.c)"
   ]
  },
  {
   "cell_type": "markdown",
   "id": "dc123524",
   "metadata": {},
   "source": [
    "Dados gerados - problema definido. Agora é chamar os solvers."
   ]
  },
  {
   "cell_type": "code",
   "execution_count": 70,
   "id": "57e833c5",
   "metadata": {},
   "outputs": [
    {
     "name": "stdout",
     "output_type": "stream",
     "text": [
      "[np.int32(0), np.int32(2), np.int32(7), np.int32(5), np.int32(4), np.int32(8), np.int32(1), np.int32(6), np.int32(3), np.int32(9)]\n"
     ]
    }
   ],
   "source": [
    "# Contador do número de soluções candidatas avaliadas\n",
    "num_sol_avaliadas = 0\n",
    "\n",
    "# Máximo número de soluções candidatas avaliadas\n",
    "max_num_sol_avaliadas = 10000\n",
    "\n",
    "# Número de estruturas de vizinhanças definidas\n",
    "kmax = 3\n",
    "\n",
    "'''\n",
    "Implementa uma solução inicial para o problema\n",
    "'''\n",
    "def sol_inicial(probdata,apply_constructive_heuristic):\n",
    "    \n",
    "    '''  \n",
    "    Modelou-se uma solução x como a sequência de tarefas atribuídas, respectivamente, aos agentes a1, a2, ... ai, ..., an\n",
    "    \n",
    "         a1 a2 ... an\n",
    "    x = [t7 t3 ... t9]\n",
    "    '''\n",
    "    \n",
    "    if apply_constructive_heuristic == False:        \n",
    "        # Constrói solução inicial aleatoriamente\n",
    "        x = Struct()\n",
    "        x.solution = list(np.random.permutation(probdata.n))\n",
    "    \n",
    "    else:\n",
    "        # Constrói solução inicial usando uma heurística construtiva\n",
    "        x = Struct()\n",
    "        x.solution = []\n",
    "        job = np.argsort(probdata.c.var(axis=0))    # tarefas ordenadas de acordo com a variância dos custos\n",
    "        for tarefa in job[::-1]:        \n",
    "            agent = np.argmin(probdata.c[:,tarefa]) # atribui as tarefas em ordem decrescente de variância ao agente de menor custo\n",
    "            x.solution.insert(agent,tarefa)\n",
    "        \n",
    "    return x\n",
    "\n",
    "# Gera solução inicial\n",
    "x = sol_inicial(probdata,apply_constructive_heuristic=False)\n",
    "\n",
    "print(x.solution)"
   ]
  },
  {
   "cell_type": "markdown",
   "id": "6fcaf5c8",
   "metadata": {},
   "source": [
    "Temos a solução inicial (gerada aleatoriamente)."
   ]
  },
  {
   "cell_type": "code",
   "execution_count": 71,
   "id": "051cb20c",
   "metadata": {},
   "outputs": [
    {
     "name": "stdout",
     "output_type": "stream",
     "text": [
      "[np.int32(0), np.int32(2), np.int32(7), np.int32(5), np.int32(4), np.int32(8), np.int32(1), np.int32(6), np.int32(3), np.int32(9)]\n",
      "375.0\n"
     ]
    }
   ],
   "source": [
    "'''\n",
    "Implementa a função objetivo do problema\n",
    "'''\n",
    "def fobj(x, probdata):\n",
    "    \n",
    "    '''\n",
    "         a1 a2 ... an\n",
    "    x = [t7 t3 ... t9]\n",
    "    '''\n",
    "    \n",
    "    fitness = 0.0\n",
    "    for i in np.arange(0,probdata.n,1):\n",
    "        fitness += probdata.c[i,x.solution[i]]\n",
    "    \n",
    "    x.fitness = fitness\n",
    "    return x\n",
    "\n",
    "# Avalia solução inicial\n",
    "x = fobj(x,probdata)\n",
    "print(x.solution)\n",
    "print(x.fitness)\n",
    "num_sol_avaliadas += 1"
   ]
  },
  {
   "cell_type": "code",
   "execution_count": 72,
   "id": "86fa2bcb",
   "metadata": {},
   "outputs": [
    {
     "name": "stdout",
     "output_type": "stream",
     "text": [
      "\n",
      "--- SOLUÇÃO INICIAL CONSTRUÍDA ---\n",
      "\n",
      "Sequência de tarefas atribuídas aos agentes:\n",
      "\n",
      "x = [np.int32(0), np.int32(2), np.int32(7), np.int32(5), np.int32(4), np.int32(8), np.int32(1), np.int32(6), np.int32(3), np.int32(9)]\n",
      "\n",
      "fitness(x) = 375.0\n",
      "\n",
      "\n",
      "--- MELHOR SOLUÇÃO ENCONTRADA ---\n",
      "\n",
      "Sequência de tarefas atribuídas aos agentes:\n",
      "\n",
      "x = [np.int32(3), np.int32(8), np.int32(1), np.int32(5), np.int32(9), np.int32(7), np.int32(4), np.int32(2), np.int32(0), np.int32(6)]\n",
      "\n",
      "fitness(x) = 115.0\n",
      "\n"
     ]
    },
    {
     "data": {
      "image/png": "[encoded data removed]",
      "text/plain": [
       "<Figure size 640x480 with 1 Axes>"
      ]
     },
     "metadata": {},
     "output_type": "display_data"
    }
   ],
   "source": [
    "'''\n",
    "Implementa a função shake\n",
    "'''\n",
    "def shake(x, k, probdata):\n",
    "        \n",
    "    y = copy.deepcopy(x)\n",
    "    r = np.random.permutation(probdata.n)\n",
    "    \n",
    "    if k == 1:             # exchange two random positions\n",
    "        y.solution[r[0]] = x.solution[r[1]]\n",
    "        y.solution[r[1]] = x.solution[r[0]]        \n",
    "    elif k == 2:           # exchange three random positions\n",
    "        y.solution[r[0]] = x.solution[r[1]]\n",
    "        y.solution[r[1]] = x.solution[r[2]]\n",
    "        y.solution[r[2]] = x.solution[r[0]]\n",
    "    elif k == 3:           # shift positions     \n",
    "        z = y.solution.pop(r[0])\n",
    "        y.solution.insert(r[1],z)\n",
    "    \n",
    "    return y\n",
    "\n",
    "'''\n",
    "Implementa a função neighborhoodChange\n",
    "'''\n",
    "def neighborhoodChange(x, y, k):\n",
    "    \n",
    "    if y.fitness < x.fitness:\n",
    "        x = copy.deepcopy(y)\n",
    "        k = 1\n",
    "    else:\n",
    "        k += 1\n",
    "        \n",
    "    return x, k\n",
    "\n",
    "\n",
    "# Armazena dados para plot\n",
    "historico = Struct()\n",
    "historico.sol = []\n",
    "historico.fit = []\n",
    "historico.sol.append(x.solution)\n",
    "historico.fit.append(x.fitness)\n",
    "\n",
    "# Ciclo iterativo do método\n",
    "while num_sol_avaliadas < max_num_sol_avaliadas:\n",
    "    \n",
    "    k = 1\n",
    "    while k <= kmax:\n",
    "        \n",
    "        # Gera uma solução candidata na k-ésima vizinhança de x        \n",
    "        y = shake(x,k,probdata)\n",
    "        y = fobj(y,probdata)\n",
    "        num_sol_avaliadas += 1\n",
    "        \n",
    "        # Atualiza solução corrente e estrutura de vizinhança (se necessário)\n",
    "        x,k = neighborhoodChange(x,y,k)\n",
    "\n",
    "        # Armazena dados para plot\n",
    "        historico.sol.append(x.solution)\n",
    "        historico.fit.append(x.fitness)\n",
    "        \n",
    "\n",
    "print('\\n--- SOLUÇÃO INICIAL CONSTRUÍDA ---\\n')\n",
    "print('Sequência de tarefas atribuídas aos agentes:\\n')\n",
    "print('x = {}\\n'.format(historico.sol[0]))\n",
    "print('fitness(x) = {:.1f}\\n'.format(historico.fit[0]))\n",
    "\n",
    "print('\\n--- MELHOR SOLUÇÃO ENCONTRADA ---\\n')\n",
    "print('Sequência de tarefas atribuídas aos agentes:\\n')\n",
    "print('x = {}\\n'.format(x.solution))\n",
    "print('fitness(x) = {:.1f}\\n'.format(x.fitness))\n",
    "\n",
    "plt.figure()\n",
    "s = len(historico.fit)\n",
    "plt.plot(np.linspace(0,s-1,s),historico.fit,'k-')\n",
    "plt.title('Evolução da qualidade da solução');\n",
    "plt.xlabel('Número de avaliações');\n",
    "plt.ylabel('fitness(x)');\n",
    "plt.show()"
   ]
  }
 ],
 "metadata": {
  "kernelspec": {
   "display_name": "myEnv",
   "language": "python",
   "name": "python3"
  },
  "language_info": {
   "codemirror_mode": {
    "name": "ipython",
    "version": 3
   },
   "file_extension": ".py",
   "mimetype": "text/x-python",
   "name": "python",
   "nbconvert_exporter": "python",
   "pygments_lexer": "ipython3",
   "version": "3.12.4"
  }
 },
 "nbformat": 4,
 "nbformat_minor": 5
}
