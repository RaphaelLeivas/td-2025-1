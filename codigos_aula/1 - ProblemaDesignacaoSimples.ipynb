{
 "cells": [
  {
   "cell_type": "markdown",
   "metadata": {},
   "source": [
    "# Teoria da Decisão - ELE088\n",
    "\n",
    "*Prof. Lucas S. Batista*  \n",
    "*Departamento de Engenharia Elétrica*  \n",
    "*Universidade Federal de Minas Gerais* "
   ]
  },
  {
   "cell_type": "markdown",
   "metadata": {},
   "source": [
    "# Estudo de Caso\n",
    "\n",
    "## Problema de Designação Simples:\n",
    "\n",
    "- Considere que existem $n$ tarefas e $n$ agentes, de tal forma que cada tarefa deve ser atribuída a um único agente e cada agente só pode receber uma tarefa. A execução da tarefa $j$ pelo agente $i$ tem um custo $c_{ij}$. Formule um problema que atribua as tarefas de forma a minimizar o custo total de execução. "
   ]
  },
  {
   "cell_type": "markdown",
   "metadata": {},
   "source": [
    "## Modelagem do problema\n",
    "\n",
    "Assumindo que $x_{ij}$ represente as variáveis de otimização do problema, pode-se definir que se $x_{ij} = 1$, então a tarefa $j$ é atribuída ao agente $i$; caso contrário, i.e., se $x_{ij} = 0$, então a tarefa $j$ não é atribuída ao agente $i$.\n",
    "\n",
    "Com o intúito de minimizar o custo total de execução de todas as tarefas, pode-se escrever a seguinte função objetivo:\n",
    "\n",
    "$$ \\min_x \\sum_{i=1}^{n} \\sum_{j=1}^{n} c_{ij} x_{ij} $$\n",
    "\n",
    "Adicionalmente, este problema apresenta o seguinte conjunto de restrições:\n",
    "\n",
    "\\begin{align} \n",
    "\\sum_{j=1}^{n} x_{ij} = 1, \\forall i \\in \\{1, \\ldots, n\\} \\hspace{2cm} (R1) \\\\\n",
    "\\sum_{i=1}^{n} x_{ij} = 1, \\forall j \\in \\{1, \\ldots, n\\} \\hspace{2cm} (R2) \\\\\n",
    "x_{ij} \\in \\{0, 1\\}, \\forall i \\in \\{1, \\ldots, n\\}, \\forall j \\in \\{1, \\ldots, n\\} \\hspace{2cm} (R3)\n",
    "\\end{align}\n",
    "\n",
    "em que **R1** assegura que cada agente $i$ executará uma única tarefa $j$; **R2** assegura que cada tarefa $j$ será realizada por um único agente $i$; e **R3** define o domínio das variáveis de decisão $x_{ij}$."
   ]
  },
  {
   "cell_type": "markdown",
   "metadata": {},
   "source": [
    "## Otimização de uma instância arbitrária do problema via RVNS\n",
    "\n",
    "A seguir são apresentados os trechos de código da implementação do RVNS para o estudo de caso apresentado."
   ]
  },
  {
   "cell_type": "code",
   "execution_count": null,
   "metadata": {},
   "outputs": [],
   "source": [
    "'''\n",
    "Importa os módulos usados\n",
    "'''\n",
    "import numpy as np\n",
    "import matplotlib.pyplot as plt\n",
    "import copy\n",
    "\n",
    "'''\n",
    "Define um tipo de dado similar ao Pascal \"record\" or C \"struct\"\n",
    "'''\n",
    "class Struct:\n",
    "    pass"
   ]
  },
  {
   "cell_type": "markdown",
   "metadata": {},
   "source": [
    "Os dados da instância teste são definidos a seguir. Note que considera-se um número de agentes/tarefas *default* $n=50$. Além disso, assume-se uma matriz de custos $c_{ij}$ em que os custos de execução das tarefas $t_1, t_2, \\ldots, t_j, \\ldots, t_n$ pelo $i$-ésimo agente são apresentados ao longo da $i$-ésima linha."
   ]
  },
  {
   "cell_type": "code",
   "execution_count": null,
   "metadata": {},
   "outputs": [],
   "source": [
    "'''\n",
    "Define os dados de uma instância arbitrária do problema\n",
    "'''\n",
    "def probdef(n=50):\n",
    "    \n",
    "    # n: número de tarefas/agentes considerados\n",
    "        \n",
    "    '''\n",
    "    Matriz de custo: c = [  t1 t2 ... tj ... tn\n",
    "                          a1\n",
    "                          a2\n",
    "                          ...\n",
    "                          ai\n",
    "                          ...\n",
    "                          an                    ]\n",
    "    ''' \n",
    "    \n",
    "    np.random.seed(13)    \n",
    "    c = np.random.randint(1,100,size=(n,n)) # considera custos inteiros aleatórios no conjunto {1, 2, ..., 99}\n",
    "    np.random.seed()\n",
    "    \n",
    "    probdata = Struct()\n",
    "    probdata.n = n\n",
    "    probdata.c = c\n",
    "        \n",
    "    return probdata"
   ]
  },
  {
   "cell_type": "markdown",
   "metadata": {},
   "source": [
    "Uma solução candidata $x$ para o problema foi modelada computacionalmente como a sequência de tarefas atribuídas, respectivamente, aos agentes $a_1, a_2, ... a_i, ..., a_n$."
   ]
  },
  {
   "cell_type": "code",
   "execution_count": null,
   "metadata": {},
   "outputs": [],
   "source": [
    "'''\n",
    "Implementa uma solução inicial para o problema\n",
    "'''\n",
    "def sol_inicial(probdata,apply_constructive_heuristic):\n",
    "    \n",
    "    '''  \n",
    "    Modelou-se uma solução x como a sequência de tarefas atribuídas, respectivamente, aos agentes a1, a2, ... ai, ..., an\n",
    "    \n",
    "         a1 a2 ... an\n",
    "    x = [t7 t3 ... t9]\n",
    "    '''\n",
    "    \n",
    "    if apply_constructive_heuristic == False:        \n",
    "        # Constrói solução inicial aleatoriamente\n",
    "        x = Struct()\n",
    "        x.solution = list(np.random.permutation(probdata.n))\n",
    "    \n",
    "    else:\n",
    "        # Constrói solução inicial usando uma heurística construtiva\n",
    "        x = Struct()\n",
    "        x.solution = []\n",
    "        job = np.argsort(probdata.c.var(axis=0))    # tarefas ordenadas de acordo com a variância dos custos\n",
    "        for tarefa in job[::-1]:        \n",
    "            agent = np.argmin(probdata.c[:,tarefa]) # atribui as tarefas em ordem decrescente de variância ao agente de menor custo\n",
    "            x.solution.insert(agent,tarefa)\n",
    "        \n",
    "    return x"
   ]
  },
  {
   "cell_type": "markdown",
   "metadata": {},
   "source": [
    "A função objetivo é implementada conforme a definição apresentada anteriormente. De forma geral, dada uma solução $x$, que indica a distribuição de tarefas a agentes, esta função computa o somatório dos custos relacionados."
   ]
  },
  {
   "cell_type": "code",
   "execution_count": null,
   "metadata": {},
   "outputs": [],
   "source": [
    "'''\n",
    "Implementa a função objetivo do problema\n",
    "'''\n",
    "def fobj(x, probdata):\n",
    "    \n",
    "    '''\n",
    "         a1 a2 ... an\n",
    "    x = [t7 t3 ... t9]\n",
    "    '''\n",
    "    \n",
    "    fitness = 0.0\n",
    "    for i in np.arange(0,probdata.n,1):\n",
    "        fitness += probdata.c[i,x.solution[i]]\n",
    "    \n",
    "    x.fitness = fitness\n",
    "    return x"
   ]
  },
  {
   "cell_type": "markdown",
   "metadata": {},
   "source": [
    "A função *neighborhoodChange* atualiza a solução corrente e também a estrutura de vizinhança. De forma geral, se a nova solução gerada $y$ apresentar um custo *fitness_y* menor que o da solução incumbente $x$, então a solução incumbente é atualizada e retoma-se a primeira estrutura de vizinhança, i.e., faz-se $k = 1$. Caso contrário, apenas segue-se para a próxima estrutura de vizinhança, mantendo-se a solução corrente $x$."
   ]
  },
  {
   "cell_type": "code",
   "execution_count": null,
   "metadata": {},
   "outputs": [],
   "source": [
    "'''\n",
    "Implementa a função neighborhoodChange\n",
    "'''\n",
    "def neighborhoodChange(x, y, k):\n",
    "    \n",
    "    if y.fitness < x.fitness:\n",
    "        x = copy.deepcopy(y)\n",
    "        k = 1\n",
    "    else:\n",
    "        k += 1\n",
    "        \n",
    "    return x, k"
   ]
  },
  {
   "cell_type": "markdown",
   "metadata": {},
   "source": [
    "Para o estudo de caso em questão foram propostas três estruturas de vizinhanças:\n",
    "\n",
    "1. A primeira estrutura de vizinhança realiza a troca da atribuição de duas tarefas entre agentes escolhidos arbitrariamente.\n",
    "2. A segunda estrutura de vizinhança é semelhante à primeira, porém envolve a troca de três tarefas.\n",
    "3. A terceira estrutura de vizinhança realiza o deslocamente de tarefas entre um conjunto de agentes."
   ]
  },
  {
   "cell_type": "code",
   "execution_count": null,
   "metadata": {},
   "outputs": [],
   "source": [
    "'''\n",
    "Implementa a função shake\n",
    "'''\n",
    "def shake(x, k, probdata):\n",
    "        \n",
    "    y = copy.deepcopy(x)\n",
    "    r = np.random.permutation(probdata.n)\n",
    "    \n",
    "    if k == 1:             # exchange two random positions\n",
    "        y.solution[r[0]] = x.solution[r[1]]\n",
    "        y.solution[r[1]] = x.solution[r[0]]        \n",
    "    elif k == 2:           # exchange three random positions\n",
    "        y.solution[r[0]] = x.solution[r[1]]\n",
    "        y.solution[r[1]] = x.solution[r[2]]\n",
    "        y.solution[r[2]] = x.solution[r[0]]\n",
    "    elif k == 3:           # shift positions     \n",
    "        z = y.solution.pop(r[0])\n",
    "        y.solution.insert(r[1],z)\n",
    "    \n",
    "    return y"
   ]
  },
  {
   "cell_type": "markdown",
   "metadata": {},
   "source": [
    "### Estrutura principal do método RVNS"
   ]
  },
  {
   "cell_type": "code",
   "execution_count": null,
   "metadata": {
    "scrolled": true
   },
   "outputs": [
    {
     "name": "stdout",
     "output_type": "stream",
     "text": [
      "\n",
      "--- SOLUÇÃO INICIAL CONSTRUÍDA ---\n",
      "\n",
      "Sequência de tarefas atribuídas aos agentes:\n",
      "\n",
      "x = [36, 39, 32, 18, 2, 41, 9, 17, 46, 12, 43, 35, 3, 4, 10, 30, 15, 48, 42, 44, 8, 1, 6, 31, 22, 29, 37, 0, 5, 25, 14, 20, 11, 47, 23, 16, 38, 7, 33, 45, 21, 49, 34, 19, 28, 27, 13, 26, 24, 40]\n",
      "\n",
      "fitness(x) = 2252.0\n",
      "\n",
      "\n",
      "--- MELHOR SOLUÇÃO ENCONTRADA ---\n",
      "\n",
      "Sequência de tarefas atribuídas aos agentes:\n",
      "\n",
      "x = [28, 14, 24, 34, 9, 2, 5, 31, 35, 20, 41, 17, 36, 21, 29, 7, 16, 37, 8, 19, 30, 46, 38, 22, 26, 12, 49, 0, 23, 6, 4, 13, 11, 39, 1, 43, 10, 27, 40, 33, 15, 48, 45, 44, 25, 47, 32, 3, 42, 18]\n",
      "\n",
      "fitness(x) = 301.0\n",
      "\n"
     ]
    },
    {
     "data": {
      "image/png": "[encoded data removed]",
      "text/plain": [
       "<Figure size 432x288 with 1 Axes>"
      ]
     },
     "metadata": {
      "needs_background": "light"
     },
     "output_type": "display_data"
    }
   ],
   "source": [
    "'''\n",
    "Implementa uma metaheurística RVNS\n",
    "'''\n",
    "\n",
    "# Contador do número de soluções candidatas avaliadas\n",
    "num_sol_avaliadas = 0\n",
    "\n",
    "# Máximo número de soluções candidatas avaliadas\n",
    "max_num_sol_avaliadas = 10000\n",
    "\n",
    "# Número de estruturas de vizinhanças definidas\n",
    "kmax = 3\n",
    "\n",
    "# Faz a leitura dos dados da instância do problema\n",
    "probdata = probdef(n=50)\n",
    "\n",
    "# Gera solução inicial\n",
    "x = sol_inicial(probdata,apply_constructive_heuristic=False)\n",
    "\n",
    "# Avalia solução inicial\n",
    "x = fobj(x,probdata)\n",
    "num_sol_avaliadas += 1\n",
    "\n",
    "# Armazena dados para plot\n",
    "historico = Struct()\n",
    "historico.sol = []\n",
    "historico.fit = []\n",
    "historico.sol.append(x.solution)\n",
    "historico.fit.append(x.fitness)\n",
    "\n",
    "\n",
    "# Ciclo iterativo do método\n",
    "while num_sol_avaliadas < max_num_sol_avaliadas:\n",
    "    \n",
    "    k = 1\n",
    "    while k <= kmax:\n",
    "        \n",
    "        # Gera uma solução candidata na k-ésima vizinhança de x        \n",
    "        y = shake(x,k,probdata)\n",
    "        y = fobj(y,probdata)\n",
    "        num_sol_avaliadas += 1\n",
    "        \n",
    "        # Atualiza solução corrente e estrutura de vizinhança (se necessário)\n",
    "        x,k = neighborhoodChange(x,y,k)\n",
    "        \n",
    "        # Armazena dados para plot\n",
    "        historico.sol.append(x.solution)\n",
    "        historico.fit.append(x.fitness)\n",
    "\n",
    "\n",
    "print('\\n--- SOLUÇÃO INICIAL CONSTRUÍDA ---\\n')\n",
    "print('Sequência de tarefas atribuídas aos agentes:\\n')\n",
    "print('x = {}\\n'.format(historico.sol[0]))\n",
    "print('fitness(x) = {:.1f}\\n'.format(historico.fit[0]))\n",
    "\n",
    "print('\\n--- MELHOR SOLUÇÃO ENCONTRADA ---\\n')\n",
    "print('Sequência de tarefas atribuídas aos agentes:\\n')\n",
    "print('x = {}\\n'.format(x.solution))\n",
    "print('fitness(x) = {:.1f}\\n'.format(x.fitness))\n",
    "\n",
    "plt.figure()\n",
    "s = len(historico.fit)\n",
    "plt.plot(np.linspace(0,s-1,s),historico.fit,'k-')\n",
    "plt.title('Evolução da qualidade da solução');\n",
    "plt.xlabel('Número de avaliações');\n",
    "plt.ylabel('fitness(x)');\n",
    "plt.show()"
   ]
  }
 ],
 "metadata": {
  "kernelspec": {
   "display_name": "Python 3 (ipykernel)",
   "language": "python",
   "name": "python3"
  },
  "language_info": {
   "codemirror_mode": {
    "name": "ipython",
    "version": 3
   },
   "file_extension": ".py",
   "mimetype": "text/x-python",
   "name": "python",
   "nbconvert_exporter": "python",
   "pygments_lexer": "ipython3",
   "version": "3.9.7"
  }
 },
 "nbformat": 4,
 "nbformat_minor": 4
}
